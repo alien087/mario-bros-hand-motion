{
 "cells": [
  {
   "cell_type": "code",
   "execution_count": 29,
   "metadata": {},
   "outputs": [],
   "source": [
    "import cv2\n",
    "import mediapipe as mp\n",
    "import numpy as np\n",
    "import pyautogui\n",
    "import time\n",
    "mp_drawing = mp.solutions.drawing_utils\n",
    "mp_holistic = mp.solutions.holistic"
   ]
  },
  {
   "cell_type": "markdown",
   "metadata": {},
   "source": [
    "# 1. Open Camera"
   ]
  },
  {
   "cell_type": "code",
   "execution_count": 2,
   "metadata": {},
   "outputs": [],
   "source": [
    "cap = cv2.VideoCapture(0)\n",
    "while cap.isOpened():\n",
    "    res, frame = cap.read()\n",
    "    cv2.imshow(\"Camera\", frame)\n",
    "    \n",
    "    if cv2.waitKey(10) & 0xff == ord('q'):\n",
    "        break\n",
    "\n",
    "cap.release()\n",
    "cv2.destroyAllWindows()"
   ]
  },
  {
   "cell_type": "markdown",
   "metadata": {},
   "source": [
    "# 2. Make Pose Detection"
   ]
  },
  {
   "cell_type": "code",
   "execution_count": 6,
   "metadata": {
    "scrolled": true
   },
   "outputs": [],
   "source": [
    "cap = cv2.VideoCapture(0)\n",
    "#Setup Mediapipe\n",
    "with mp_holistic.Holistic(min_detection_confidence=0.5, min_tracking_confidence=0.5) as holistic:\n",
    "    while cap.isOpened():\n",
    "        res, frame = cap.read()\n",
    "        \n",
    "        #Recolor Image BGR to RGB because mediapipe is only accept RGB Image\n",
    "        image = cv2.cvtColor(frame, cv2.COLOR_BGR2RGB)\n",
    "        image.flags.writeable = False\n",
    "        \n",
    "        # Make detection from pose model mediapipe\n",
    "        results = holistic.process(image)\n",
    "        \n",
    "        #Recolor from RGB to BGR\n",
    "        image.flags.writeable = True\n",
    "        image = cv2.cvtColor(image, cv2.COLOR_RGB2BGR)\n",
    "        \n",
    "        #Rendering the detection result\n",
    "        mp_drawing.draw_landmarks(image, results.left_hand_landmarks, mp_holistic.HAND_CONNECTIONS)\n",
    "        mp_drawing.draw_landmarks(image, results.right_hand_landmarks, mp_holistic.HAND_CONNECTIONS)\n",
    "        \n",
    "        cv2.imshow(\"Camera\", image)\n",
    "\n",
    "        if cv2.waitKey(10) & 0xff == ord('q'):\n",
    "            break\n",
    "\n",
    "    cap.release()\n",
    "    cv2.destroyAllWindows()"
   ]
  },
  {
   "cell_type": "markdown",
   "metadata": {},
   "source": [
    "# 3. Extract Joint Coordinates"
   ]
  },
  {
   "cell_type": "code",
   "execution_count": 51,
   "metadata": {},
   "outputs": [],
   "source": [
    "cap = cv2.VideoCapture(0)\n",
    "#Setup Mediapipe\n",
    "with mp_holistic.Holistic(min_detection_confidence=0.5, min_tracking_confidence=0.5) as holistic:\n",
    "    while cap.isOpened():\n",
    "        res, frame = cap.read()\n",
    "        \n",
    "        #Recolor Image BGR to RGB because mediapipe is only accept RGB Image\n",
    "        image = cv2.cvtColor(frame, cv2.COLOR_BGR2RGB)\n",
    "        image.flags.writeable = False\n",
    "        \n",
    "        # Make detection from pose model mediapipe\n",
    "        results = holistic.process(image)\n",
    "        \n",
    "        #Recolor from RGB to BGR\n",
    "        image.flags.writeable = True\n",
    "        image = cv2.cvtColor(image, cv2.COLOR_RGB2BGR)\n",
    "        \n",
    "        # Extract Landmarks\n",
    "        try:\n",
    "            landmarks = results.right_hand_landmarks.landmark\n",
    "  \n",
    "        except:\n",
    "            pass\n",
    "        \n",
    "        #Rendering the detection result\n",
    "        mp_drawing.draw_landmarks(image, results.left_hand_landmarks, mp_holistic.HAND_CONNECTIONS)\n",
    "        mp_drawing.draw_landmarks(image, results.right_hand_landmarks, mp_holistic.HAND_CONNECTIONS)\n",
    "                \n",
    "        cv2.imshow(\"Camera\", image)\n",
    "\n",
    "        if cv2.waitKey(10) & 0xff == ord('q'):\n",
    "            break\n",
    "\n",
    "    cap.release()\n",
    "    cv2.destroyAllWindows()"
   ]
  },
  {
   "cell_type": "code",
   "execution_count": 12,
   "metadata": {},
   "outputs": [],
   "source": [
    "results??"
   ]
  },
  {
   "cell_type": "code",
   "execution_count": 9,
   "metadata": {},
   "outputs": [
    {
     "name": "stdout",
     "output_type": "stream",
     "text": [
      "HandLandmark.WRIST\n",
      "HandLandmark.THUMB_CMC\n",
      "HandLandmark.THUMB_MCP\n",
      "HandLandmark.THUMB_IP\n",
      "HandLandmark.THUMB_TIP\n",
      "HandLandmark.INDEX_FINGER_MCP\n",
      "HandLandmark.INDEX_FINGER_PIP\n",
      "HandLandmark.INDEX_FINGER_DIP\n",
      "HandLandmark.INDEX_FINGER_TIP\n",
      "HandLandmark.MIDDLE_FINGER_MCP\n",
      "HandLandmark.MIDDLE_FINGER_PIP\n",
      "HandLandmark.MIDDLE_FINGER_DIP\n",
      "HandLandmark.MIDDLE_FINGER_TIP\n",
      "HandLandmark.RING_FINGER_MCP\n",
      "HandLandmark.RING_FINGER_PIP\n",
      "HandLandmark.RING_FINGER_DIP\n",
      "HandLandmark.RING_FINGER_TIP\n",
      "HandLandmark.PINKY_MCP\n",
      "HandLandmark.PINKY_PIP\n",
      "HandLandmark.PINKY_DIP\n",
      "HandLandmark.PINKY_TIP\n"
     ]
    }
   ],
   "source": [
    "for lndmrk in mp_holistic.HandLandmark:\n",
    "    print(lndmrk)"
   ]
  },
  {
   "cell_type": "code",
   "execution_count": 15,
   "metadata": {},
   "outputs": [
    {
     "data": {
      "text/plain": [
       "x: 0.2598624527454376\n",
       "y: 0.7935397028923035\n",
       "z: -0.008222446776926517"
      ]
     },
     "execution_count": 15,
     "metadata": {},
     "output_type": "execute_result"
    }
   ],
   "source": [
    "landmarks[mp_holistic.HandLandmark.THUMB_CMC.value]"
   ]
  },
  {
   "cell_type": "code",
   "execution_count": 16,
   "metadata": {},
   "outputs": [],
   "source": []
  },
  {
   "cell_type": "markdown",
   "metadata": {},
   "source": [
    "# 4. Calculate Angles"
   ]
  },
  {
   "cell_type": "code",
   "execution_count": 3,
   "metadata": {},
   "outputs": [],
   "source": [
    "def calculate_angle(a,b,c):\n",
    "    a = np.array(a) #First Point\n",
    "    b = np.array(b) #Second Point\n",
    "    c = np.array(c) #Third Point\n",
    "    \n",
    "    radians = np.arctan2(c[1]-b[1], c[0]-b[0]) - np.arctan2(a[1]-b[1], a[0]-b[0])\n",
    "    angle = np.abs(radians*180.0/np.pi)\n",
    "    \n",
    "    if angle > 180.0:\n",
    "        angle = 360-angle\n",
    "    \n",
    "    return angle"
   ]
  },
  {
   "cell_type": "code",
   "execution_count": 4,
   "metadata": {},
   "outputs": [],
   "source": [
    "def calculate_distace_point(a,b):\n",
    "    a = np.array(a)\n",
    "    b = np.array(b)\n",
    "    \n",
    "    distance = np.linalg.norm(a-b)\n",
    "    \n",
    "    return distance"
   ]
  },
  {
   "cell_type": "code",
   "execution_count": 58,
   "metadata": {},
   "outputs": [],
   "source": [
    "INDEX_FINGER_TIP = [landmarks[mp_holistic.HandLandmark.INDEX_FINGER_TIP.value].x, landmarks[mp_holistic.HandLandmark.INDEX_FINGER_TIP.value].y]\n",
    "INDEX_FINGER_DIP = [landmarks[mp_holistic.HandLandmark.INDEX_FINGER_DIP.value].x, landmarks[mp_holistic.HandLandmark.INDEX_FINGER_DIP.value].y]\n",
    "INDEX_FINGER_PIP = [landmarks[mp_holistic.HandLandmark.INDEX_FINGER_PIP.value].x, landmarks[mp_holistic.HandLandmark.INDEX_FINGER_PIP.value].y]"
   ]
  },
  {
   "cell_type": "code",
   "execution_count": 59,
   "metadata": {},
   "outputs": [
    {
     "data": {
      "text/plain": [
       "([0.24528715014457703, 0.333548903465271],\n",
       " [0.23803144693374634, 0.3952375054359436],\n",
       " [0.2268681824207306, 0.4771801233291626])"
      ]
     },
     "execution_count": 59,
     "metadata": {},
     "output_type": "execute_result"
    }
   ],
   "source": [
    "INDEX_FINGER_TIP, INDEX_FINGER_DIP, INDEX_FINGER_PIP"
   ]
  },
  {
   "cell_type": "code",
   "execution_count": 60,
   "metadata": {},
   "outputs": [
    {
     "data": {
      "text/plain": [
       "178.95040565855945"
      ]
     },
     "execution_count": 60,
     "metadata": {},
     "output_type": "execute_result"
    }
   ],
   "source": [
    "calculate_angle(INDEX_FINGER_PIP, INDEX_FINGER_DIP, INDEX_FINGER_TIP)"
   ]
  },
  {
   "cell_type": "code",
   "execution_count": 61,
   "metadata": {},
   "outputs": [
    {
     "data": {
      "text/plain": [
       "178.95040565855945"
      ]
     },
     "execution_count": 61,
     "metadata": {},
     "output_type": "execute_result"
    }
   ],
   "source": [
    "calculate_angle(INDEX_FINGER_PIP, INDEX_FINGER_DIP, INDEX_FINGER_TIP)"
   ]
  },
  {
   "cell_type": "markdown",
   "metadata": {},
   "source": [
    "# 4. Curl Counter"
   ]
  },
  {
   "cell_type": "code",
   "execution_count": 60,
   "metadata": {},
   "outputs": [],
   "source": [
    "cap = cv2.VideoCapture(0)\n",
    "\n",
    "action = \"\"\n",
    "#Setup Mediapipe\n",
    "with mp_holistic.Holistic(min_detection_confidence=0.4, min_tracking_confidence=0.4) as holistic:\n",
    "    while cap.isOpened():\n",
    "        res, frame = cap.read()\n",
    "        \n",
    "        #Recolor Image BGR to RGB because mediapipe is only accept RGB Image\n",
    "        image = cv2.cvtColor(frame, cv2.COLOR_BGR2RGB)\n",
    "        image.flags.writeable = False\n",
    "        \n",
    "        # Make detection from pose model mediapipe\n",
    "        results = holistic.process(image)\n",
    "        \n",
    "        #Recolor from RGB to BGR\n",
    "        image.flags.writeable = True\n",
    "        image = cv2.cvtColor(image, cv2.COLOR_RGB2BGR)\n",
    "        \n",
    "        # Extract Landmarks\n",
    "        try:\n",
    "            landmarks = results.right_hand_landmarks.landmark\n",
    "            #landmarks2 = results.left_hand_landmarks.landmark\n",
    "            #Get angle on right hand index finger\n",
    "            INDEX_FINGER_TIP = [landmarks[mp_holistic.HandLandmark.INDEX_FINGER_TIP.value].x, landmarks[mp_holistic.HandLandmark.INDEX_FINGER_TIP.value].y]\n",
    "            INDEX_FINGER_DIP = [landmarks[mp_holistic.HandLandmark.INDEX_FINGER_DIP.value].x, landmarks[mp_holistic.HandLandmark.INDEX_FINGER_DIP.value].y]\n",
    "            INDEX_FINGER_PIP = [landmarks[mp_holistic.HandLandmark.INDEX_FINGER_PIP.value].x, landmarks[mp_holistic.HandLandmark.INDEX_FINGER_PIP.value].y]\n",
    "            angle = calculate_angle(INDEX_FINGER_PIP, INDEX_FINGER_DIP, INDEX_FINGER_TIP)\n",
    "            \n",
    "            #Get angle on right hand thumb\n",
    "            THUMB_FINGER_TIP = [landmarks[mp_holistic.HandLandmark.THUMB_TIP.value].x, landmarks[mp_holistic.HandLandmark.THUMB_TIP.value].y]\n",
    "            THUMB_FINGER_IP = [landmarks[mp_holistic.HandLandmark.THUMB_IP.value].x, landmarks[mp_holistic.HandLandmark.THUMB_IP.value].y]\n",
    "            THUMB_FINGER_MCP = [landmarks[mp_holistic.HandLandmark.THUMB_MCP.value].x, landmarks[mp_holistic.HandLandmark.THUMB_MCP.value].y]\n",
    "            angle_t = calculate_angle(THUMB_FINGER_TIP, THUMB_FINGER_IP, THUMB_FINGER_MCP)\n",
    "            \n",
    "            #Visualize the angle\n",
    "#             cv2.putText(image, str(angle_t),\n",
    "#                        tuple(np.multiply(THUMB_FINGER_TIP, [640,480]).astype(int)),\n",
    "#                             cv2.FONT_HERSHEY_SIMPLEX, 0.5, (255,255,255), 2, cv2.LINE_AA)\n",
    "            \n",
    "            #Get Distance between thumb ip and index mcp\n",
    "            thumb_ip = [landmarks[mp_holistic.HandLandmark.THUMB_IP.value].x, landmarks[mp_holistic.HandLandmark.THUMB_IP.value].y]\n",
    "            finger_tip = [landmarks[mp_holistic.HandLandmark.INDEX_FINGER_MCP.value].x, landmarks[mp_holistic.HandLandmark.INDEX_FINGER_MCP.value].y]\n",
    "            distance = calculate_distace_point(thumb_ip, finger_tip)\n",
    "            \n",
    "            #Get Distance between thumb ip and index mcp\n",
    "            middle_finger_tip = [landmarks[mp_holistic.HandLandmark.MIDDLE_FINGER_TIP.value].x, landmarks[mp_holistic.HandLandmark.MIDDLE_FINGER_TIP.value].y]\n",
    "            finger_tip_2 = [landmarks[mp_holistic.HandLandmark.INDEX_FINGER_TIP.value].x, landmarks[mp_holistic.HandLandmark.INDEX_FINGER_TIP.value].y]\n",
    "            distance_2 = calculate_distace_point(middle_finger_tip, finger_tip_2)\n",
    "            \n",
    "#             thumb_ip_l = [landmarks2[mp_holistic.HandLandmark.THUMB_IP.value].x, landmarks2[mp_holistic.HandLandmark.THUMB_IP.value].y]\n",
    "#             finger_tip_l = [landmarks2[mp_holistic.HandLandmark.INDEX_FINGER_MCP.value].x, landmarks2[mp_holistic.HandLandmark.INDEX_FINGER_MCP.value].y]\n",
    "#             distance_l = calculate_distace_point(thumb_ip_l, finger_tip_l)\n",
    "            \n",
    "            #Visualize the distance\n",
    "#             cv2.putText(image, str(distance_2),\n",
    "#                        tuple(np.multiply(middle_finger_tip, [640,480]).astype(int)),\n",
    "#                             cv2.FONT_HERSHEY_SIMPLEX, 0.5, (255,255,255), 2, cv2.LINE_AA)\n",
    "           \n",
    "            \n",
    "        \n",
    "            if angle > 160 and distance < 0.1 and distance_2 < 0.15:\n",
    "                action = \"Hold\"\n",
    "                pyautogui.keyUp('d')\n",
    "                pyautogui.keyUp('space')\n",
    "                pyautogui.keyUp('a')\n",
    "                #time.sleep(0.1)\n",
    "                \n",
    "            elif distance_2 > 0.15:\n",
    "                action = \"back\"\n",
    "                pyautogui.keyDown('a')\n",
    "                    \n",
    "            elif angle < 160 and distance < 0.1:\n",
    "                action = \"forward\"\n",
    "                pyautogui.keyDown('d')\n",
    "                \n",
    "                #time.sleep(0.1)\n",
    "                \n",
    "            elif (angle_t < 160.0):\n",
    "                action = \"hit\"\n",
    "                pyautogui.click() \n",
    "                \n",
    "            elif (angle > 160 and distance > 0.1) or (angle < 160 and distance > 0.1) :\n",
    "                action = \"jump\"\n",
    "                pyautogui.keyDown('space')\n",
    "                time.sleep(0.5)\n",
    "                pyautogui.keyUp('space')\n",
    "           \n",
    "                \n",
    "#             if angle_l > 160 and distance_l < 0.1:\n",
    "#                 action = \"Hold\"\n",
    "#                 pyautogui.keyUp('a')\n",
    "#                 pyautogui.keyUp('s')\n",
    "#                 #time.sleep(0.1)\n",
    "#             elif angle_l < 160 and distance_l < 0.1:\n",
    "#                 action = \"back\"\n",
    "#                 pyautogui.keyDown('a')\n",
    "#                 #time.sleep(0.1)\n",
    "#             elif (angle_l > 160 and distance_l > 0.1) or (angle_l < 160 and distance_l > 0.1) :\n",
    "#                 action = \"down\"\n",
    "#                 pyautogui.keyDown('s')\n",
    "#                 #time.sleep(0.1)\n",
    "        except:\n",
    "            pass\n",
    "        \n",
    "        #Setup status box\n",
    "        cv2.putText(image, action,\n",
    "                      (0,50),\n",
    "                    cv2.FONT_HERSHEY_SIMPLEX, 2, (255,255,255), 2, cv2.LINE_AA)\n",
    "        \n",
    "        #Rendering the detection result\n",
    "        mp_drawing.draw_landmarks(image, results.left_hand_landmarks, mp_holistic.HAND_CONNECTIONS)\n",
    "        mp_drawing.draw_landmarks(image, results.right_hand_landmarks, mp_holistic.HAND_CONNECTIONS)\n",
    "                \n",
    "        cv2.imshow(\"Camera\", image)\n",
    "\n",
    "        if cv2.waitKey(10) & 0xff == ord('q'):\n",
    "            break\n",
    "\n",
    "    cap.release()\n",
    "    cv2.destroyAllWindows()"
   ]
  },
  {
   "cell_type": "code",
   "execution_count": null,
   "metadata": {},
   "outputs": [],
   "source": []
  },
  {
   "cell_type": "code",
   "execution_count": null,
   "metadata": {},
   "outputs": [],
   "source": []
  }
 ],
 "metadata": {
  "kernelspec": {
   "display_name": "python (tf)",
   "language": "python",
   "name": "tf"
  },
  "language_info": {
   "codemirror_mode": {
    "name": "ipython",
    "version": 3
   },
   "file_extension": ".py",
   "mimetype": "text/x-python",
   "name": "python",
   "nbconvert_exporter": "python",
   "pygments_lexer": "ipython3",
   "version": "3.7.6"
  }
 },
 "nbformat": 4,
 "nbformat_minor": 4
}
